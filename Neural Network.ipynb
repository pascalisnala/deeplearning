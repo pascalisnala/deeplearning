{
 "cells": [
  {
   "cell_type": "markdown",
   "metadata": {},
   "source": [
    "## Simple Neural Network for Classification\n",
    "\n",
    "This notebook is a simple example of using ANN with 1 hidden layer for classifying Iris Flower dataset. The implementation will be from scratch"
   ]
  },
  {
   "cell_type": "code",
   "execution_count": 1,
   "metadata": {},
   "outputs": [],
   "source": [
    "#import useful libary\n",
    "import math\n",
    "\n",
    "import pandas as pd\n",
    "import numpy as np\n",
    "from sklearn.model_selection import train_test_split"
   ]
  },
  {
   "cell_type": "code",
   "execution_count": 2,
   "metadata": {},
   "outputs": [],
   "source": [
    "# Importing Iris Dataset \n",
    "X_train = pd.read_csv(\"X_train.csv\",header=None)\n",
    "X_test = pd.read_csv(\"X_test.csv\",header=None)\n",
    "y_train = pd.read_csv(\"y_train.csv\",header=None)\n",
    "y_test = pd.read_csv(\"y_test.csv\",header=None)"
   ]
  },
  {
   "cell_type": "code",
   "execution_count": 3,
   "metadata": {},
   "outputs": [
    {
     "data": {
      "text/html": [
       "<div>\n",
       "<style scoped>\n",
       "    .dataframe tbody tr th:only-of-type {\n",
       "        vertical-align: middle;\n",
       "    }\n",
       "\n",
       "    .dataframe tbody tr th {\n",
       "        vertical-align: top;\n",
       "    }\n",
       "\n",
       "    .dataframe thead th {\n",
       "        text-align: right;\n",
       "    }\n",
       "</style>\n",
       "<table border=\"1\" class=\"dataframe\">\n",
       "  <thead>\n",
       "    <tr style=\"text-align: right;\">\n",
       "      <th></th>\n",
       "      <th>0</th>\n",
       "      <th>1</th>\n",
       "      <th>2</th>\n",
       "      <th>3</th>\n",
       "    </tr>\n",
       "  </thead>\n",
       "  <tbody>\n",
       "    <tr>\n",
       "      <th>0</th>\n",
       "      <td>5.1</td>\n",
       "      <td>3.5</td>\n",
       "      <td>1.4</td>\n",
       "      <td>0.2</td>\n",
       "    </tr>\n",
       "    <tr>\n",
       "      <th>1</th>\n",
       "      <td>7.0</td>\n",
       "      <td>3.2</td>\n",
       "      <td>4.7</td>\n",
       "      <td>1.4</td>\n",
       "    </tr>\n",
       "    <tr>\n",
       "      <th>2</th>\n",
       "      <td>6.3</td>\n",
       "      <td>3.3</td>\n",
       "      <td>6.0</td>\n",
       "      <td>2.5</td>\n",
       "    </tr>\n",
       "    <tr>\n",
       "      <th>3</th>\n",
       "      <td>4.9</td>\n",
       "      <td>3.0</td>\n",
       "      <td>1.4</td>\n",
       "      <td>0.2</td>\n",
       "    </tr>\n",
       "    <tr>\n",
       "      <th>4</th>\n",
       "      <td>6.4</td>\n",
       "      <td>3.2</td>\n",
       "      <td>4.5</td>\n",
       "      <td>1.5</td>\n",
       "    </tr>\n",
       "  </tbody>\n",
       "</table>\n",
       "</div>"
      ],
      "text/plain": [
       "     0    1    2    3\n",
       "0  5.1  3.5  1.4  0.2\n",
       "1  7.0  3.2  4.7  1.4\n",
       "2  6.3  3.3  6.0  2.5\n",
       "3  4.9  3.0  1.4  0.2\n",
       "4  6.4  3.2  4.5  1.5"
      ]
     },
     "execution_count": 3,
     "metadata": {},
     "output_type": "execute_result"
    }
   ],
   "source": [
    "X_train.head()"
   ]
  },
  {
   "cell_type": "code",
   "execution_count": 4,
   "metadata": {},
   "outputs": [],
   "source": [
    "X_train = X_train.to_numpy()\n",
    "X_test = X_test.to_numpy()\n",
    "y_train = y_train.to_numpy() \n",
    "y_test = y_test.to_numpy()"
   ]
  },
  {
   "cell_type": "code",
   "execution_count": 5,
   "metadata": {},
   "outputs": [],
   "source": [
    "def sigmoid(x):\n",
    "    return 1 / (1 + np.exp(-x))\n",
    "\n",
    "def deriv_sigmoid(x):\n",
    "    return x*(1-x)"
   ]
  },
  {
   "cell_type": "code",
   "execution_count": 6,
   "metadata": {},
   "outputs": [],
   "source": [
    "#model training\n",
    "weight_h = 2*np.random.rand(3,4)-1\n",
    "weight_o = 2*np.random.rand(3,3)-1\n",
    "\n",
    "bias_h = 2*np.random.rand(3,1)-1\n",
    "bias_o = 2*np.random.rand(3,1)-1\n",
    "\n",
    "epoch = 10000\n",
    "\n",
    "for x in range(epoch):\n",
    "    #feed forward\n",
    "    z_h = np.dot(weight_h, X_train.transpose())\n",
    "    z_h = z_h + bias_h\n",
    "    z_h = sigmoid(z_h)\n",
    "    z_h = z_h.transpose()\n",
    "    \n",
    "    z_o = np.dot(weight_o, z_h.transpose())\n",
    "    z_o = z_o + bias_o\n",
    "    z_o = sigmoid(z_o)\n",
    "    z_o = z_o.transpose()\n",
    "    \n",
    "    #back propagation\n",
    "    err_o = y_train - z_o\n",
    "    gradient_o = deriv_sigmoid(z_o)\n",
    "    gradient_h = deriv_sigmoid(z_h)\n",
    "    delta_o = err_o * gradient_o\n",
    "    err_h = np.dot(weight_o,delta_o.transpose())\n",
    "    err_h = err_h.transpose()\n",
    "    delta_h = err_h * gradient_h\n",
    "    \n",
    "    weight_o += np.dot(delta_o.transpose(),z_h) * 0.09\n",
    "    weight_h += np.dot(delta_h.transpose(),X_train) * 0.09\n",
    "    \n",
    "    bias_o += np.sum(delta_o,axis=0,keepdims=True).transpose() * 0.09\n",
    "    bias_h += np.sum(delta_h,axis=0,keepdims=True).transpose() * 0.09"
   ]
  },
  {
   "cell_type": "code",
   "execution_count": 7,
   "metadata": {},
   "outputs": [],
   "source": [
    "#model testing\n",
    "z_h = np.dot(weight_h, X_test.transpose())\n",
    "z_h = z_h + bias_h\n",
    "z_h = sigmoid(z_h)\n",
    "z_h = z_h.transpose()\n",
    "\n",
    "z_o = np.dot(weight_o, z_h.transpose())\n",
    "z_o = z_o + bias_o\n",
    "z_o = sigmoid(z_o)\n",
    "z_o = z_o.transpose()"
   ]
  },
  {
   "cell_type": "code",
   "execution_count": 8,
   "metadata": {},
   "outputs": [],
   "source": [
    "#function for transform the output to only 0/1\n",
    "def output(yhat):\n",
    "    if yhat>0.7:\n",
    "        return 1\n",
    "    else:\n",
    "        return 0\n",
    "    \n",
    "#function for count the MSE from the output\n",
    "def mse(yhat,y):\n",
    "    err = yhat-y\n",
    "    err = np.sum(yhat,axis=1,keepdims=True)\n",
    "    err = err*err\n",
    "    err = np.mean(err)\n",
    "    return err    \n",
    "\n",
    "#function for count the accuracy of the model\n",
    "def recog_rate(yhat,y):\n",
    "    count = 0\n",
    "    for x in range(len(yhat)):\n",
    "        if(np.sum(yhat[x]==y[x])==3):\n",
    "            count+=1\n",
    "        else:\n",
    "            continue\n",
    "    rate = count/len(yhat)*100\n",
    "    print(\"The model correctly classify: {0}% of the data\".format(rate))\n",
    "        "
   ]
  },
  {
   "cell_type": "code",
   "execution_count": 9,
   "metadata": {},
   "outputs": [],
   "source": [
    "pred = np.vectorize(output)\n",
    "output = pred(z_o)"
   ]
  },
  {
   "cell_type": "code",
   "execution_count": 10,
   "metadata": {},
   "outputs": [
    {
     "data": {
      "text/plain": [
       "0.9733333333333334"
      ]
     },
     "execution_count": 10,
     "metadata": {},
     "output_type": "execute_result"
    }
   ],
   "source": [
    "mse(output,y_test)"
   ]
  },
  {
   "cell_type": "code",
   "execution_count": 11,
   "metadata": {},
   "outputs": [
    {
     "name": "stdout",
     "output_type": "stream",
     "text": [
      "The model correctly classify: 92.0% of the data\n"
     ]
    }
   ],
   "source": [
    "recog_rate(output,y_test)"
   ]
  }
 ],
 "metadata": {
  "kernelspec": {
   "display_name": "Python 3",
   "language": "python",
   "name": "python3"
  },
  "language_info": {
   "codemirror_mode": {
    "name": "ipython",
    "version": 3
   },
   "file_extension": ".py",
   "mimetype": "text/x-python",
   "name": "python",
   "nbconvert_exporter": "python",
   "pygments_lexer": "ipython3",
   "version": "3.7.3"
  }
 },
 "nbformat": 4,
 "nbformat_minor": 4
}
